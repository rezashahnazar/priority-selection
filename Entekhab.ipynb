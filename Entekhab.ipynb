{
 "metadata": {
  "language_info": {
   "codemirror_mode": {
    "name": "ipython",
    "version": 3
   },
   "file_extension": ".py",
   "mimetype": "text/x-python",
   "name": "python",
   "nbconvert_exporter": "python",
   "pygments_lexer": "ipython3",
   "version": "3.8.5-final"
  },
  "orig_nbformat": 2,
  "kernelspec": {
   "name": "python3",
   "display_name": "Python 3"
  }
 },
 "nbformat": 4,
 "nbformat_minor": 2,
 "cells": [
  {
   "cell_type": "code",
   "execution_count": 88,
   "metadata": {},
   "outputs": [],
   "source": [
    "import pandas as pd "
   ]
  },
  {
   "cell_type": "code",
   "execution_count": 89,
   "metadata": {},
   "outputs": [],
   "source": [
    "file = open('ent2.csv')"
   ]
  },
  {
   "cell_type": "code",
   "execution_count": 90,
   "metadata": {},
   "outputs": [],
   "source": [
    "data = pd.read_csv(file)"
   ]
  },
  {
   "cell_type": "code",
   "execution_count": 91,
   "metadata": {},
   "outputs": [],
   "source": [
    "df = pd.DataFrame(data)"
   ]
  },
  {
   "cell_type": "code",
   "execution_count": 92,
   "metadata": {},
   "outputs": [],
   "source": [
    "s_data = df.sort_values(by=['score'], ascending=False  )"
   ]
  },
  {
   "cell_type": "code",
   "execution_count": null,
   "metadata": {},
   "outputs": [],
   "source": []
  },
  {
   "cell_type": "code",
   "execution_count": 93,
   "metadata": {},
   "outputs": [
    {
     "output_type": "stream",
     "name": "stdout",
     "text": [
      "zarfiatha:  {'t': 0, 'i': 0, 's': 0, 'b': 0}\nunis:  {'Sara': 't', 'Maryam': 'b', 'Erfan': 't', 'Kasra': 'i', 'Reza': 'b', 'Ali': 's', 'Golnaz': 's', 'Soheil': 'i'}\n"
     ]
    }
   ],
   "source": [
    "zarfiat = {'t':2, 'i':2 , 's':2 , 'b':2}\n",
    "unis= {}\n",
    "for a,b in s_data.iterrows():\n",
    "    if zarfiat[b['o1']] > 0:\n",
    "        zarfiat[b['o1']] = zarfiat[b['o1']]-1\n",
    "        unis[b['name']]=b['o1']\n",
    "    elif zarfiat[b['o2']] > 0:\n",
    "        zarfiat[b['o2']] = zarfiat[b['o2']]-1\n",
    "        unis[b['name']]=b['o2']\n",
    "    elif zarfiat[b['o3']] > 0:\n",
    "        zarfiat[b['o3']] = zarfiat[b['o3']]-1\n",
    "        unis[b['name']]=b['o3']\n",
    "    elif zarfiat[b['o4']] > 0:\n",
    "        zarfiat[b['o4']] = zarfiat[b['o4']]-1\n",
    "        unis[b['name']]=b['o4']\n",
    "    else:\n",
    "        print('baraye ', b['name'], ' Ja nist')\n",
    "print('zarfiatha: ', zarfiat)\n",
    "print('unis: ', unis)"
   ]
  }
 ]
}